{
 "cells": [
  {
   "cell_type": "markdown",
   "metadata": {
    "colab_type": "text",
    "id": "LMf7XJ8ZKvMI"
   },
   "source": [
    "## **PASSNYC Dataset Training:**\n",
    "\n",
    "We might need to remove all NaN values/DNE values in our dataset, right now I'm making them equal to 0, but that is probably messing with the neural network. Does that mean we need to remove it for every feature we use?\n",
    "\n",
    "Latitude and Longitude doesn't necessarily need to be included as the features, becuase the School District information is already being passed in."
   ]
  },
  {
   "cell_type": "code",
   "execution_count": 1,
   "metadata": {
    "colab": {
     "autoexec": {
      "startup": false,
      "wait_interval": 0
     },
     "base_uri": "https://localhost:8080/",
     "height": 34
    },
    "colab_type": "code",
    "executionInfo": {
     "elapsed": 6213,
     "status": "ok",
     "timestamp": 1531630018001,
     "user": {
      "displayName": "Karan Abrol",
      "photoUrl": "//lh5.googleusercontent.com/-GyAlDHrQf3U/AAAAAAAAAAI/AAAAAAAABD0/aNtYpuWnz8M/s50-c-k-no/photo.jpg",
      "userId": "106117551816016717889"
     },
     "user_tz": 420
    },
    "id": "Mp4l6P6sKvMI",
    "outputId": "2e151d23-ae20-4896-c3b9-1c591e32b993"
   },
   "outputs": [
    {
     "name": "stderr",
     "output_type": "stream",
     "text": [
      "Using TensorFlow backend.\n"
     ]
    }
   ],
   "source": [
    "import pandas as pd\n",
    "import sys\n",
    "import tensorflow as tf\n",
    "import numpy as np\n",
    "import keras\n",
    "from sklearn.preprocessing import MinMaxScaler\n",
    "from keras.models import Sequential\n",
    "from keras.layers import *\n",
    "from keras.models import load_model"
   ]
  },
  {
   "cell_type": "markdown",
   "metadata": {
    "colab_type": "text",
    "id": "NZkwh83rKvMP"
   },
   "source": [
    "Data loaded from the two datasets provided and the NYT SHSAT article"
   ]
  },
  {
   "cell_type": "code",
   "execution_count": 0,
   "metadata": {
    "colab": {
     "autoexec": {
      "startup": false,
      "wait_interval": 0
     }
    },
    "colab_type": "code",
    "id": "PwrAlJ9eKvMP"
   },
   "outputs": [],
   "source": [
    "schoolExplorer = pd.read_csv(\"kaggle-data/2016 School Explorer.csv\", encoding = 'utf-8')\n",
    "registrationTesters = pd.read_csv(\"kaggle-data/D5 SHSAT Registrations and Testers.csv\", encoding= 'utf-8')\n",
    "nytdf = pd.read_csv(\"kaggle-data/nytdf.csv\", encoding = 'utf-8')\n",
    "highschoolDirectory = pd.read_csv(\"kaggle-data/2017-doe-high-school-directory.csv\",encoding = 'utf-8')\n",
    "middleschoolDirectory = pd.read_csv(\"kaggle-data/2018_DOE_Middle_School_Directory.csv\",encoding = 'utf-8')\n",
    "\n",
    "\n",
    "highschoolDirectory = highschoolDirectory.set_index('dbn')\n",
    "middleschoolDirectory = middleschoolDirectory.set_index('schooldbn')\n",
    "\n",
    "\n",
    "schoolExplorer = schoolExplorer.set_index('Location Code')\n",
    "nytdf = nytdf.set_index('DBN')\n",
    "\n",
    "explorer_nyt = schoolExplorer.join(nytdf)\n",
    "nytCombined = nytdf.join(schoolExplorer)\n",
    "\n",
    "nytCombined.to_csv(\"kaggle-data/combined.csv\", index=False)\n",
    "testErrorArray = []"
   ]
  },
  {
   "cell_type": "code",
   "execution_count": 0,
   "metadata": {
    "colab": {
     "autoexec": {
      "startup": false,
      "wait_interval": 0
     }
    },
    "colab_type": "code",
    "id": "8qMLdsyIKvMR",
    "outputId": "7da2d87b-4167-4324-a7e2-952ee001cfbd"
   },
   "outputs": [
    {
     "data": {
      "text/plain": [
       "(589, 167)"
      ]
     },
     "execution_count": 5,
     "metadata": {
      "tags": []
     },
     "output_type": "execute_result"
    }
   ],
   "source": [
    "nytCombined.shape"
   ]
  },
  {
   "cell_type": "markdown",
   "metadata": {
    "colab_type": "text",
    "id": "VdNaSryQKvMT"
   },
   "source": []
  },
  {
   "cell_type": "code",
   "execution_count": 0,
   "metadata": {
    "colab": {
     "autoexec": {
      "startup": false,
      "wait_interval": 0
     }
    },
    "colab_type": "code",
    "id": "UdYXIJa7KvMU"
   },
   "outputs": [],
   "source": []
  },
  {
   "cell_type": "markdown",
   "metadata": {
    "colab_type": "text",
    "id": "ShPnUM_gKvMW"
   },
   "source": [
    "The rationale behind creating a neural network with the NumofSHSATTestTakers is to determine the most probable schools which would have more test takers and then predict other schools' probable students. Following which we can rank each school depending on how diverse they are"
   ]
  },
  {
   "cell_type": "code",
   "execution_count": 0,
   "metadata": {
    "colab": {
     "autoexec": {
      "startup": false,
      "wait_interval": 0
     }
    },
    "colab_type": "code",
    "id": "ciJ8b9Y-KvMW"
   },
   "outputs": [],
   "source": []
  },
  {
   "cell_type": "code",
   "execution_count": 0,
   "metadata": {
    "colab": {
     "autoexec": {
      "startup": false,
      "wait_interval": 0
     }
    },
    "colab_type": "code",
    "id": "jtqSY0DhKvMY"
   },
   "outputs": [],
   "source": [
    "# Filter the dataset to remove any schools without any SHSAT Test takers\n",
    "\n",
    "features = ['TestTakersPercentage','ELA8thGrade4s','Math8thGrade4s','Percent of Students Chronically Absent','Average Math Proficiency','Economic Need Index','District','Average ELA Proficiency']\n",
    "\n",
    "nytCombinedFiltered = nytCombined.query(\"NumSHSATTestTakers !=0\")\n",
    "\n",
    "Math8thGrade4s = pd.Series(nytCombinedFiltered[ 'Grade 8 Math 4s - All Students']/(nytCombinedFiltered[ 'Grade 8 Math - All Students Tested']*1.0))\n",
    "ELA8thGrade4s = pd.Series(nytCombinedFiltered[ 'Grade 8 ELA 4s - All Students']/(nytCombinedFiltered[ 'Grade 8 ELA - All Students Tested']*1.0))\n",
    "TestTakersPercentage = pd.Series(nytCombinedFiltered['NumSHSATTestTakers']/(nytCombinedFiltered[ 'Grade 8 Math - All Students Tested']*1.0))\n",
    "\n",
    "nytCombinedFiltered = nytCombinedFiltered.assign(Math8thGrade4s = Math8thGrade4s)\n",
    "nytCombinedFiltered = nytCombinedFiltered.assign(ELA8thGrade4s = ELA8thGrade4s)\n",
    "nytCombinedFiltered = nytCombinedFiltered.assign(TestTakersPercentage = TestTakersPercentage)\n",
    "\n",
    "\n",
    "def removePercent(df,columnName):\n",
    "    df[columnName] = df[columnName].str.rstrip('%').astype('float') / 100.0\n",
    "    features.append(columnName)\n",
    "    return\n",
    "\n",
    "removePercent(nytCombinedFiltered,'Student Attendance Rate')\n",
    "removePercent(nytCombinedFiltered,'Percent of Students Chronically Absent')\n",
    "\n",
    "nytCombinedFiltered.fillna(0,inplace = True)\n",
    "nytCombinedFiltered = nytCombinedFiltered.replace([np.inf, -np.inf], np.nan)\n",
    "nytCombinedFiltered = nytCombinedFiltered.dropna(subset=['TestTakersPercentage'])\n",
    "# nytCombinedFiltered.fillna(1,inplace = True)"
   ]
  },
  {
   "cell_type": "code",
   "execution_count": 0,
   "metadata": {
    "colab": {
     "autoexec": {
      "startup": false,
      "wait_interval": 0
     }
    },
    "colab_type": "code",
    "id": "NhD42TLrKvMa",
    "outputId": "fb004191-556d-405b-8f34-be8097529069"
   },
   "outputs": [
    {
     "name": "stdout",
     "output_type": "stream",
     "text": [
      "10\n"
     ]
    }
   ],
   "source": [
    "numFeatures = len(features)\n",
    "print(numFeatures)"
   ]
  },
  {
   "cell_type": "code",
   "execution_count": 0,
   "metadata": {
    "colab": {
     "autoexec": {
      "startup": false,
      "wait_interval": 0
     }
    },
    "colab_type": "code",
    "id": "rWlZMVr6KvMc"
   },
   "outputs": [],
   "source": [
    "# nytCombinedFiltered['Student Attendance Rate']"
   ]
  },
  {
   "cell_type": "code",
   "execution_count": 0,
   "metadata": {
    "colab": {
     "autoexec": {
      "startup": false,
      "wait_interval": 0
     }
    },
    "colab_type": "code",
    "id": "p476LTV9KvMg"
   },
   "outputs": [],
   "source": [
    "# We split the Combined and filtered dataset to training and testing datasets, 60 each\n",
    "datasetSplit = 150\n",
    "\n",
    "nytCombinedFilteredTraining = nytCombinedFiltered[0:datasetSplit]\n",
    "nytCombinedFilteredTesting = nytCombinedFiltered[datasetSplit:]\n",
    "\n",
    "# Only pick out the columns that we want, ie: the ones with numeric values, we can still access the exact school name cause of the index\n",
    "\n",
    "nytTraining = nytCombinedFilteredTraining.filter(features)\n",
    "nytTesting = nytCombinedFilteredTesting.filter(features)\n"
   ]
  },
  {
   "cell_type": "code",
   "execution_count": 0,
   "metadata": {
    "colab": {
     "autoexec": {
      "startup": false,
      "wait_interval": 0
     }
    },
    "colab_type": "code",
    "id": "2RZ4Jdv2KvMh"
   },
   "outputs": [],
   "source": [
    "# list(nytTesting)\n",
    "\n"
   ]
  },
  {
   "cell_type": "code",
   "execution_count": 0,
   "metadata": {
    "colab": {
     "autoexec": {
      "startup": false,
      "wait_interval": 0
     }
    },
    "colab_type": "code",
    "id": "YcUQcNSlKvMl",
    "outputId": "06851e04-324b-46f1-f597-86941a225e9b"
   },
   "outputs": [
    {
     "name": "stdout",
     "output_type": "stream",
     "text": [
      "Note: Number of SHSAT Taker values were scaled by multiplying by 0.1331344397 and adding -0.006340\n"
     ]
    }
   ],
   "source": [
    "# Scale the inputs and outputs to a suitable small range\n",
    "scaler = MinMaxScaler(feature_range=(0, 1))\n",
    "\n",
    "# Scale both the training inputs and outputs\n",
    "scaled_training = scaler.fit_transform(nytTraining)\n",
    "scaled_testing = scaler.transform(nytTesting)\n",
    "\n",
    "scaled_training_df = pd.DataFrame(scaled_training, columns= nytTraining.columns.values)\n",
    "scaled_testing_df = pd.DataFrame(scaled_testing, columns=nytTesting.columns.values)\n",
    "\n",
    "scaled_training_df.to_csv(\"kaggle-data/training_scaled.csv\", index=False)\n",
    "scaled_testing_df.to_csv(\"kaggle-data/testing_scaled.csv\", index=False)\n",
    "\n",
    "print(\"Note: Number of SHSAT Taker values were scaled by multiplying by {:.10f} and adding {:.6f}\".format(scaler.scale_[0], scaler.min_[0]))"
   ]
  },
  {
   "cell_type": "code",
   "execution_count": 0,
   "metadata": {
    "colab": {
     "autoexec": {
      "startup": false,
      "wait_interval": 0
     }
    },
    "colab_type": "code",
    "id": "DSQzgmwYKvMn"
   },
   "outputs": [],
   "source": [
    "#This is the training of the model\n",
    "\n",
    "#This didnt work trying not the scaled values\n",
    "\n",
    "X = scaled_training_df.drop('TestTakersPercentage', axis=1).values\n",
    "\n",
    "# Using the output as a percentage\n",
    "\n",
    "Y = scaled_training_df[['TestTakersPercentage']].values\n",
    "\n",
    "\n",
    "# X = nytTraining.drop('NumSHSATTestTakers', axis=1).values\n",
    "# Y = nytTraining[['NumSHSATTestTakers']].values\n"
   ]
  },
  {
   "cell_type": "code",
   "execution_count": 0,
   "metadata": {
    "colab": {
     "autoexec": {
      "startup": false,
      "wait_interval": 0
     }
    },
    "colab_type": "code",
    "id": "TaohpbCxKvMp",
    "outputId": "60b9c841-4f34-425e-80d6-a0c0e6b34005"
   },
   "outputs": [
    {
     "name": "stdout",
     "output_type": "stream",
     "text": [
      "Epoch 1/50\n",
      " - 1s - loss: 0.0138 - mean_absolute_error: 0.0621 - acc: 0.0067\n",
      "Epoch 2/50\n",
      " - 0s - loss: 0.0105 - mean_absolute_error: 0.0580 - acc: 0.0067\n",
      "Epoch 3/50\n",
      " - 0s - loss: 0.0096 - mean_absolute_error: 0.0498 - acc: 0.0067\n",
      "Epoch 4/50\n",
      " - 0s - loss: 0.0089 - mean_absolute_error: 0.0432 - acc: 0.0067\n",
      "Epoch 5/50\n",
      " - 0s - loss: 0.0082 - mean_absolute_error: 0.0470 - acc: 0.0067\n",
      "Epoch 6/50\n",
      " - 0s - loss: 0.0076 - mean_absolute_error: 0.0410 - acc: 0.0067\n",
      "Epoch 7/50\n",
      " - 0s - loss: 0.0072 - mean_absolute_error: 0.0443 - acc: 0.0067\n",
      "Epoch 8/50\n",
      " - 0s - loss: 0.0067 - mean_absolute_error: 0.0399 - acc: 0.0067\n",
      "Epoch 9/50\n",
      " - 0s - loss: 0.0065 - mean_absolute_error: 0.0406 - acc: 0.0067\n",
      "Epoch 10/50\n",
      " - 0s - loss: 0.0063 - mean_absolute_error: 0.0422 - acc: 0.0067\n",
      "Epoch 11/50\n",
      " - 0s - loss: 0.0062 - mean_absolute_error: 0.0414 - acc: 0.0067\n",
      "Epoch 12/50\n",
      " - 0s - loss: 0.0067 - mean_absolute_error: 0.0412 - acc: 0.0067\n",
      "Epoch 13/50\n",
      " - 0s - loss: 0.0065 - mean_absolute_error: 0.0520 - acc: 0.0067\n",
      "Epoch 14/50\n",
      " - 0s - loss: 0.0063 - mean_absolute_error: 0.0433 - acc: 0.0067\n",
      "Epoch 15/50\n",
      " - 0s - loss: 0.0057 - mean_absolute_error: 0.0425 - acc: 0.0067\n",
      "Epoch 16/50\n",
      " - 0s - loss: 0.0056 - mean_absolute_error: 0.0422 - acc: 0.0067\n",
      "Epoch 17/50\n",
      " - 0s - loss: 0.0057 - mean_absolute_error: 0.0381 - acc: 0.0067\n",
      "Epoch 18/50\n",
      " - 0s - loss: 0.0054 - mean_absolute_error: 0.0414 - acc: 0.0067\n",
      "Epoch 19/50\n",
      " - 0s - loss: 0.0050 - mean_absolute_error: 0.0358 - acc: 0.0067\n",
      "Epoch 20/50\n",
      " - 0s - loss: 0.0051 - mean_absolute_error: 0.0370 - acc: 0.0067\n",
      "Epoch 21/50\n",
      " - 0s - loss: 0.0051 - mean_absolute_error: 0.0361 - acc: 0.0067\n",
      "Epoch 22/50\n",
      " - 0s - loss: 0.0054 - mean_absolute_error: 0.0409 - acc: 0.0067\n",
      "Epoch 23/50\n",
      " - 0s - loss: 0.0052 - mean_absolute_error: 0.0378 - acc: 0.0067\n",
      "Epoch 24/50\n",
      " - 0s - loss: 0.0048 - mean_absolute_error: 0.0374 - acc: 0.0067\n",
      "Epoch 25/50\n",
      " - 0s - loss: 0.0048 - mean_absolute_error: 0.0372 - acc: 0.0067\n",
      "Epoch 26/50\n",
      " - 0s - loss: 0.0046 - mean_absolute_error: 0.0353 - acc: 0.0133\n",
      "Epoch 27/50\n",
      " - 0s - loss: 0.0046 - mean_absolute_error: 0.0372 - acc: 0.0133\n",
      "Epoch 28/50\n",
      " - 0s - loss: 0.0047 - mean_absolute_error: 0.0359 - acc: 0.0133\n",
      "Epoch 29/50\n",
      " - 0s - loss: 0.0047 - mean_absolute_error: 0.0395 - acc: 0.0133\n",
      "Epoch 30/50\n",
      " - 0s - loss: 0.0044 - mean_absolute_error: 0.0349 - acc: 0.0133\n",
      "Epoch 31/50\n",
      " - 0s - loss: 0.0044 - mean_absolute_error: 0.0344 - acc: 0.0133\n",
      "Epoch 32/50\n",
      " - 0s - loss: 0.0041 - mean_absolute_error: 0.0350 - acc: 0.0133\n",
      "Epoch 33/50\n",
      " - 0s - loss: 0.0043 - mean_absolute_error: 0.0332 - acc: 0.0133\n",
      "Epoch 34/50\n",
      " - 0s - loss: 0.0042 - mean_absolute_error: 0.0368 - acc: 0.0133\n",
      "Epoch 35/50\n",
      " - 0s - loss: 0.0042 - mean_absolute_error: 0.0329 - acc: 0.0133\n",
      "Epoch 36/50\n",
      " - 0s - loss: 0.0043 - mean_absolute_error: 0.0372 - acc: 0.0133\n",
      "Epoch 37/50\n",
      " - 0s - loss: 0.0042 - mean_absolute_error: 0.0325 - acc: 0.0133\n",
      "Epoch 38/50\n",
      " - 0s - loss: 0.0039 - mean_absolute_error: 0.0320 - acc: 0.0133\n",
      "Epoch 39/50\n",
      " - 0s - loss: 0.0038 - mean_absolute_error: 0.0329 - acc: 0.0133\n",
      "Epoch 40/50\n",
      " - 0s - loss: 0.0037 - mean_absolute_error: 0.0310 - acc: 0.0133\n",
      "Epoch 41/50\n",
      " - 0s - loss: 0.0038 - mean_absolute_error: 0.0352 - acc: 0.0133\n",
      "Epoch 42/50\n",
      " - 0s - loss: 0.0037 - mean_absolute_error: 0.0318 - acc: 0.0133\n",
      "Epoch 43/50\n",
      " - 0s - loss: 0.0035 - mean_absolute_error: 0.0309 - acc: 0.0133\n",
      "Epoch 44/50\n",
      " - 0s - loss: 0.0034 - mean_absolute_error: 0.0292 - acc: 0.0133\n",
      "Epoch 45/50\n",
      " - 0s - loss: 0.0034 - mean_absolute_error: 0.0323 - acc: 0.0133\n",
      "Epoch 46/50\n",
      " - 0s - loss: 0.0035 - mean_absolute_error: 0.0296 - acc: 0.0133\n",
      "Epoch 47/50\n",
      " - 0s - loss: 0.0039 - mean_absolute_error: 0.0367 - acc: 0.0133\n",
      "Epoch 48/50\n",
      " - 0s - loss: 0.0044 - mean_absolute_error: 0.0382 - acc: 0.0133\n",
      "Epoch 49/50\n",
      " - 0s - loss: 0.0039 - mean_absolute_error: 0.0421 - acc: 0.0133\n",
      "Epoch 50/50\n",
      " - 0s - loss: 0.0033 - mean_absolute_error: 0.0304 - acc: 0.0133\n",
      "The mean squared error (MSE) for the test data set is: [0.006273521361627469, 0.035230543758524094, 0.0]\n",
      "Here: \n",
      "acc: 0.00000%\n",
      "Model Saved to Folder\n"
     ]
    }
   ],
   "source": [
    "# Define the model\n",
    "model = Sequential()\n",
    "activationFuntion = 'relu'\n",
    "model.add(Dense(50, input_dim=numFeatures-1, activation='relu'))\n",
    "model.add(Dense(50, activation='relu'))\n",
    "model.add(Dense(50, activation='relu'))\n",
    "model.add(Dense(50, activation='relu'))\n",
    "model.add(Dense(1, activation='linear'))\n",
    "# model.compile(loss=\"mean_squared_error\", optimizer=\"adam\")\n",
    "\n",
    "model.compile(loss='mean_squared_error', optimizer='adam', metrics=['mae','accuracy'])\n",
    "\n",
    "\n",
    "#Train\n",
    "model.fit(\n",
    "    X,\n",
    "    Y,\n",
    "    epochs=50,\n",
    "    shuffle=True,\n",
    "    verbose=2\n",
    ")\n",
    "\n",
    "X_test = scaled_testing_df.drop('TestTakersPercentage', axis=1).values\n",
    "Y_test = scaled_testing_df[['TestTakersPercentage']].values\n",
    "\n",
    "test_error_rate = model.evaluate(X_test, Y_test, verbose=0)\n",
    "\n",
    "testErrorArray.append(test_error_rate)\n",
    "print(\"The mean squared error (MSE) for the test data set is: {}\".format(test_error_rate))\n",
    "print(\"Here: \\n%s: %.5f%%\" % (model.metrics_names[2], test_error_rate[2]))\n",
    "\n",
    "model.save('savedModel.h5')\n",
    "print(\"Model Saved to Folder\")"
   ]
  },
  {
   "cell_type": "code",
   "execution_count": 0,
   "metadata": {
    "colab": {
     "autoexec": {
      "startup": false,
      "wait_interval": 0
     }
    },
    "colab_type": "code",
    "id": "DH0H-gjUKvMt"
   },
   "outputs": [],
   "source": [
    "#Loading the saved model and then using it:\n",
    "\n",
    "model = load_model('savedModel.h5')\n",
    "\n",
    "# prediction = model.predict(X)"
   ]
  },
  {
   "cell_type": "code",
   "execution_count": 0,
   "metadata": {
    "colab": {
     "autoexec": {
      "startup": false,
      "wait_interval": 0
     }
    },
    "colab_type": "code",
    "id": "yBdWa2hRKvMx",
    "outputId": "10ceecf3-7888-45de-87bd-3751ff5fe6e1"
   },
   "outputs": [
    {
     "name": "stdout",
     "output_type": "stream",
     "text": [
      "0     0.092235\n",
      "1     0.115882\n",
      "2     1.000000\n",
      "3     0.226646\n",
      "4     0.510349\n",
      "5     0.102989\n",
      "6     0.123342\n",
      "7     0.134662\n",
      "8     0.087131\n",
      "9     0.075038\n",
      "10    0.079187\n",
      "Name: TestTakersPercentage, dtype: float64 [[0.8120292 ]\n",
      " [0.77867067]\n",
      " [4.939108  ]\n",
      " [1.6150904 ]\n",
      " [4.0077496 ]\n",
      " [0.69094396]\n",
      " [0.8725062 ]\n",
      " [1.1068518 ]\n",
      " [0.51014334]\n",
      " [0.7604499 ]\n",
      " [0.5523411 ]]\n"
     ]
    }
   ],
   "source": [
    "X = pd.read_csv('kaggle-data/training_scaled.csv')\n",
    "\n",
    "\n",
    "X.head()\n",
    "\n",
    "X = X.loc[0:10]\n",
    "\n",
    "before = X[0:20]['TestTakersPercentage']\n",
    "X = X.drop('TestTakersPercentage',axis = 1)\n",
    "prediction = model.predict(X)\n",
    "# prediction = prediction + scaler.min_[0]\n",
    "prediction = prediction / scaler.scale_[0]\n",
    "\n",
    "\n",
    "print(before,prediction)\n",
    "\n"
   ]
  },
  {
   "cell_type": "code",
   "execution_count": 0,
   "metadata": {
    "colab": {
     "autoexec": {
      "startup": false,
      "wait_interval": 0
     }
    },
    "colab_type": "code",
    "id": "HTucB5sEKvM2"
   },
   "outputs": [],
   "source": []
  },
  {
   "cell_type": "code",
   "execution_count": 0,
   "metadata": {
    "colab": {
     "autoexec": {
      "startup": false,
      "wait_interval": 0
     }
    },
    "colab_type": "code",
    "id": "OlteDszOKvM5"
   },
   "outputs": [],
   "source": []
  },
  {
   "cell_type": "code",
   "execution_count": 0,
   "metadata": {
    "colab": {
     "autoexec": {
      "startup": false,
      "wait_interval": 0
     }
    },
    "colab_type": "code",
    "id": "86cEV3feKvM5"
   },
   "outputs": [],
   "source": []
  },
  {
   "cell_type": "code",
   "execution_count": 0,
   "metadata": {
    "colab": {
     "autoexec": {
      "startup": false,
      "wait_interval": 0
     }
    },
    "colab_type": "code",
    "id": "u7ps3MvAKvM7"
   },
   "outputs": [],
   "source": []
  },
  {
   "cell_type": "code",
   "execution_count": 0,
   "metadata": {
    "colab": {
     "autoexec": {
      "startup": false,
      "wait_interval": 0
     }
    },
    "colab_type": "code",
    "id": "uY5IUgdWKvM8"
   },
   "outputs": [],
   "source": []
  },
  {
   "cell_type": "code",
   "execution_count": 0,
   "metadata": {
    "colab": {
     "autoexec": {
      "startup": false,
      "wait_interval": 0
     }
    },
    "colab_type": "code",
    "id": "h2Li37T0KvNA"
   },
   "outputs": [],
   "source": []
  },
  {
   "cell_type": "code",
   "execution_count": 0,
   "metadata": {
    "colab": {
     "autoexec": {
      "startup": false,
      "wait_interval": 0
     }
    },
    "colab_type": "code",
    "id": "CbpEkdwbKvNC"
   },
   "outputs": [],
   "source": []
  }
 ],
 "metadata": {
  "colab": {
   "default_view": {},
   "name": "kaggle-challenge-04.ipynb",
   "provenance": [],
   "version": "0.3.2",
   "views": {}
  },
  "kernelspec": {
   "display_name": "Python 3",
   "language": "python",
   "name": "python3"
  },
  "language_info": {
   "codemirror_mode": {
    "name": "ipython",
    "version": 3
   },
   "file_extension": ".py",
   "mimetype": "text/x-python",
   "name": "python",
   "nbconvert_exporter": "python",
   "pygments_lexer": "ipython3",
   "version": "3.6.5"
  }
 },
 "nbformat": 4,
 "nbformat_minor": 1
}
